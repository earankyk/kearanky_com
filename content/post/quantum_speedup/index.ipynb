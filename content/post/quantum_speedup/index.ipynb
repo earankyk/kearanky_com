{
 "cells": [
  {
   "cell_type": "markdown",
   "metadata": {},
   "source": [
    "# A Programmer's Guide to Quantum Speedup"
   ]
  },
  {
   "cell_type": "markdown",
   "metadata": {},
   "source": [
    "## How does quantum computing differ from ..computing?\n",
    "\n",
    "The fundamental difference between a regular computer and a quantum computer is the physics. A regular computer's bits can be in a state of 0 or 1. A quantum computer's *qubits* can be in a state of 0 and 1 simultaneously. We don't know the state of the qubit until we measure it (think Schrodinger's cat). \n",
    "\n",
    "However, unlike schrodinger's cat, the qubit (qu-cat?) can be both dead and alive even after we open the box (or measure).\n",
    "\n",
    "Measurement of a qubit *collapses* the qubit into 0 or 1 with a certain probability."
   ]
  },
  {
   "cell_type": "markdown",
   "metadata": {},
   "source": [
    "Let's write some code to represent a set of Qubits:"
   ]
  },
  {
   "cell_type": "code",
   "execution_count": 63,
   "metadata": {},
   "outputs": [],
   "source": [
    "import math, random\n",
    "from tabulate import tabulate\n",
    "\n",
    "class QubitSet:\n",
    "\n",
    "    def __init__(self, amplitudes):\n",
    "        # The amplitude is an artifact from the wave nature of \n",
    "        # quantum particles.\n",
    "        self.amplitudes = amplitudes\n",
    "        # Probability here is the likelihood of getting that \n",
    "        # state when we measure the qubit. Probability and \n",
    "        # amplitude obey the relation: \n",
    "        # probability = amplitude².\n",
    "        self.probabilities = list(map(\n",
    "            lambda amplitude: math.pow(amplitude, 2), amplitudes))\n",
    "        \n",
    "    def numStates(self):\n",
    "        return len(self.amplitudes)\n",
    "\n",
    "    def pprint(self):\n",
    "        tabular_data = []\n",
    "        for i in range(self.numStates()):\n",
    "            tabular_data.append([i, self.amplitudes[i], \n",
    "                                 self.probabilities[i]])\n",
    "        print(tabulate(tabular_data, \n",
    "                       headers=['State', 'Amplitude', 'Probability']))\n",
    "\n",
    "    def measure(self):\n",
    "        # Simulate the measurement of a qubit state. When measured, \n",
    "        # the state is returned with it's corresponding probability.\n",
    "        return random.choices(range(self.numStates()), \n",
    "                              weights=(self.probabilities), k=1)[0]"
   ]
  },
  {
   "cell_type": "markdown",
   "metadata": {},
   "source": [
    "The `QubitSet` class above defines a set of quantum states, like a register of qubits.  \n",
    "\n",
    "It's useful to think of a quantum state in terms of a probability distribution:"
   ]
  },
  {
   "cell_type": "code",
   "execution_count": 45,
   "metadata": {},
   "outputs": [
    {
     "name": "stdout",
     "output_type": "stream",
     "text": [
      "  State    Amplitude    Probability\n",
      "-------  -----------  -------------\n",
      "      0            0              0\n",
      "      1            1              1\n"
     ]
    }
   ],
   "source": [
    "q = QubitSet([0, 1])\n",
    "q.pprint()"
   ]
  },
  {
   "cell_type": "markdown",
   "metadata": {},
   "source": [
    "When measured, `q` would be found in the `|1>` state with a probability of 1.\n",
    "\n",
    "**Note**: Quantum states are represented by putting them between `|>`."
   ]
  },
  {
   "cell_type": "code",
   "execution_count": 46,
   "metadata": {},
   "outputs": [
    {
     "name": "stdout",
     "output_type": "stream",
     "text": [
      "\n",
      "Is the cat dead or alive?\n",
      "\n",
      "Alive :)\n",
      "Alive :)\n",
      "Alive :)\n",
      "Alive :)\n",
      "Alive :)\n",
      "Alive :)\n",
      "Alive :)\n",
      "Alive :)\n",
      "Alive :)\n",
      "Alive :)\n"
     ]
    }
   ],
   "source": [
    "print(\"\\nIs the cat dead or alive?\\n\")\n",
    "for i in range(10):\n",
    "    if q.measure():\n",
    "        print(\"Alive :)\") \n",
    "    else:\n",
    "        print(\"Dead  :x\")"
   ]
  },
  {
   "cell_type": "markdown",
   "metadata": {},
   "source": [
    "`q` here behaves exactly like a regular 1 bit. But we could do something more interesting with qubits!"
   ]
  },
  {
   "cell_type": "code",
   "execution_count": 47,
   "metadata": {},
   "outputs": [
    {
     "name": "stdout",
     "output_type": "stream",
     "text": [
      "  State    Amplitude    Probability\n",
      "-------  -----------  -------------\n",
      "      0          0.6           0.36\n",
      "      1          0.8           0.64\n",
      "\n",
      "Is the qu-cat dead or alive?\n",
      "\n",
      "Dead  :x\n",
      "Alive :)\n",
      "Alive :)\n",
      "Alive :)\n",
      "Alive :)\n",
      "Alive :)\n",
      "Alive :)\n",
      "Dead  :x\n",
      "Dead  :x\n",
      "Dead  :x\n"
     ]
    }
   ],
   "source": [
    "realQ = QubitSet([0.6, 0.8])\n",
    "realQ.pprint()\n",
    "print(\"\\nIs the qu-cat dead or alive?\\n\")\n",
    "for i in range(10):\n",
    "    if realQ.measure():\n",
    "        print(\"Alive :)\") \n",
    "    else:\n",
    "        print(\"Dead  :x\")"
   ]
  },
  {
   "cell_type": "markdown",
   "metadata": {},
   "source": [
    "**Note**: No cats or qu-cats were harmed while writing this article."
   ]
  },
  {
   "cell_type": "markdown",
   "metadata": {},
   "source": [
    "It's not a coincidence that the probabilities of both states sum upto 1. It's a requirement, since the qubit can only be found in one of the 2 states after measurement. \n",
    "\n",
    "We can observe that a qubit actually captures 2 regular states (0, 1). This can be extended to show that an n-qubit quantum state captures 2ⁿ regular states. This property of qubits is known as **superposition**. \n",
    "\n",
    "The physics of a qubit allow it to remain in superposition of it's individual states, while a regular bit cannot **stably** stay in a superposed state.\n",
    "\n",
    "\n",
    "> **All quantum algorithms leverage superposition to operate on multiple quantum states in parallel to achieve speedup.**\n",
    "\n"
   ]
  },
  {
   "cell_type": "markdown",
   "metadata": {},
   "source": [
    "Another interesting property of qubits is their ability to **interfere**. When we combine two qubits (using a quantum gate), they may interfere *constructively* or *destructively*. "
   ]
  },
  {
   "cell_type": "markdown",
   "metadata": {},
   "source": [
    "![interference](./interference.png)\n",
    "\n",
    "> It's easier to understand interference by considering qubits as waves. "
   ]
  },
  {
   "cell_type": "markdown",
   "metadata": {},
   "source": [
    "In order to form an intuition for qubit interference, let's consider a coin flip experiment. For a typical coin, the probability of getting a heads or tails on a flip is 1/2.   \n",
    "\n",
    "Now let's consider a quantum coin. Let's say we begin with the coin facing heads up."
   ]
  },
  {
   "cell_type": "code",
   "execution_count": 48,
   "metadata": {},
   "outputs": [
    {
     "name": "stdout",
     "output_type": "stream",
     "text": [
      "  State    Amplitude    Probability\n",
      "-------  -----------  -------------\n",
      "      0            1              1\n",
      "      1            0              0\n"
     ]
    }
   ],
   "source": [
    "# Here |0> represents head, and |1> represents tail\n",
    "initialState = QubitSet([1, 0])\n",
    "initialState.pprint()"
   ]
  },
  {
   "cell_type": "markdown",
   "metadata": {},
   "source": [
    "We flip the coin by applying a quantum gate (similar to logic gates) called [Hadamard](https://en.wikipedia.org/wiki/Quantum_logic_gate#Hadamard_(H)_gate). The Hadamard gate brings the coin into a uniform superposition state (all outcomes are measured with equal probability)."
   ]
  },
  {
   "cell_type": "code",
   "execution_count": 64,
   "metadata": {},
   "outputs": [],
   "source": [
    "def hadamard2InputStates(qubitSet):\n",
    "    assert(qubitSet.numStates() == 2)\n",
    "    one_over_root_2 = 1/math.pow(2, 1/2)\n",
    "    return QubitSet([one_over_root_2*qubitSet.amplitudes[0] + \n",
    "                     one_over_root_2*qubitSet.amplitudes[1],\n",
    "                     one_over_root_2*qubitSet.amplitudes[0] - \n",
    "                     one_over_root_2*qubitSet.amplitudes[1]])"
   ]
  },
  {
   "cell_type": "code",
   "execution_count": 50,
   "metadata": {},
   "outputs": [
    {
     "name": "stdout",
     "output_type": "stream",
     "text": [
      "  State    Amplitude    Probability\n",
      "-------  -----------  -------------\n",
      "      0     0.707107            0.5\n",
      "      1     0.707107            0.5\n"
     ]
    }
   ],
   "source": [
    "firstHadamard = hadamard2InputStates(initialState)\n",
    "firstHadamard.pprint()"
   ]
  },
  {
   "cell_type": "markdown",
   "metadata": {},
   "source": [
    "So far the quantum coin behaves exactly like a regular coin. \n",
    "\n",
    "But when we flip the coin again by applying the same Hadamard gate, we notice something different:"
   ]
  },
  {
   "cell_type": "code",
   "execution_count": 51,
   "metadata": {},
   "outputs": [
    {
     "name": "stdout",
     "output_type": "stream",
     "text": [
      "  State    Amplitude    Probability\n",
      "-------  -----------  -------------\n",
      "      0            1              1\n",
      "      1            0              0\n"
     ]
    }
   ],
   "source": [
    "secondHadamard = hadamard2InputStates(firstHadamard)\n",
    "secondHadamard.pprint()"
   ]
  },
  {
   "cell_type": "markdown",
   "metadata": {},
   "source": [
    "The coin always flips to head!"
   ]
  },
  {
   "cell_type": "markdown",
   "metadata": {},
   "source": [
    "![negative_interference](./negative_interference.png)"
   ]
  },
  {
   "cell_type": "markdown",
   "metadata": {},
   "source": [
    "Since we started from the `H` state we don't notice any interference after the first flip. But when we flip the superposed state, the resulting `T` states interfere negatively, while the `H` states interfere positively. Resulting in the end state always being `H`. \n",
    "\n",
    "Now that we understand both **superposition** and **interference**, we're ready to understand how (most) quantum algorithms work!\n",
    "\n",
    "## What does a quantum algorithm look like?\n",
    "\n",
    "A typical quantum algorithm works in the following way:  \n",
    "\n",
    "* Put the input qubits into a uniform superposed state.\n",
    "* Apply quantum gates causing the states to interfere, transforming the amplitudes (and therefore the probabilities) of the qubits to our desired state.\n",
    "* Measure the output qubits (collapsing the qubit into a regular bit).\n",
    "\n",
    "For the purpose of this article, we will consider [Grover's search algorithm](https://en.wikipedia.org/wiki/Grover%27s_algorithm). \n",
    "\n",
    "Grover's algorithm is a quantum take on linear search - finding an element in a list of `n` unsorted elements.\n",
    "\n",
    "In the regular linear search algorithm, we need to go through n-1 elements in the worst case before we find the element, meaning O(n) worst case time. However, using Grover's search algorithm we can find the element in O(√n) time (with a high probability).\n",
    "\n",
    "So how exactly does Grover's algorithm achieve this speedup?\n",
    "\n",
    "## Grover's search algorithm "
   ]
  },
  {
   "cell_type": "markdown",
   "metadata": {},
   "source": [
    "Here's the implementation of the algorithm, we'll then split it up and look into how it works."
   ]
  },
  {
   "cell_type": "code",
   "execution_count": 52,
   "metadata": {},
   "outputs": [],
   "source": [
    "class GroverSearch:\n",
    "\n",
    "    def __init__(self, inputList, answerIndex):\n",
    "        self.inputList = inputList\n",
    "        self.answerIndex = answerIndex\n",
    "\n",
    "    def oracle(self, guess):\n",
    "        return guess == self.answerIndex\n",
    "\n",
    "    def groverSeparationGate(self, qubitSet):\n",
    "        transformedAmplitudes = []\n",
    "        for state, amplitude in enumerate(qubitSet.amplitudes):\n",
    "            transformedAmplitudes.append(\n",
    "                -1*amplitude if self.oracle(state) else amplitude)\n",
    "        return QubitSet(transformedAmplitudes)\n",
    "\n",
    "    def meanInversionGate(self, qubitSet):\n",
    "        transformedAmplitudes = []\n",
    "        mean = sum(qubitSet.amplitudes)/qubitSet.numStates()\n",
    "        return QubitSet([2*mean-amplitude for \n",
    "                         amplitude in qubitSet.amplitudes])\n",
    "\n",
    "    def search(self):\n",
    "        listLen = len(self.inputList)\n",
    "        assert(isPowerOfTwo(listLen))\n",
    "        initState = [0]*listLen\n",
    "        initState[0] = 1\n",
    "        uniformSuperposition = hadamard(QubitSet(initState)) \n",
    "        inputState = uniformSuperposition\n",
    "        for i in range(math.ceil(math.sqrt(listLen)) - 1):\n",
    "            inputState = self.groverSeparationGate(inputState)\n",
    "            inputState = self.meanInversionGate(inputState)\n",
    "        return inputState"
   ]
  },
  {
   "cell_type": "markdown",
   "metadata": {},
   "source": [
    "Let's consider a 4 element list `[0, 1, 2, 3]`. And let's say that the element we're searching for is `2`."
   ]
  },
  {
   "cell_type": "code",
   "execution_count": 53,
   "metadata": {},
   "outputs": [],
   "source": [
    "groverSearch = GroverSearch([0, 1, 2, 3], 2)"
   ]
  },
  {
   "cell_type": "markdown",
   "metadata": {},
   "source": [
    "To analyze Grover's algorithm, let's consider an oracle. We guess an element in the list, and the oracle tells us if the guess is correct."
   ]
  },
  {
   "cell_type": "code",
   "execution_count": 54,
   "metadata": {},
   "outputs": [],
   "source": [
    "def oracle(self, guess):\n",
    "        return guess == self.answerIndex"
   ]
  },
  {
   "cell_type": "markdown",
   "metadata": {},
   "source": [
    "You might ask - why bother with searching the list if we already know the answer. We'll look at more interesting cases where the oracle is not as simple in the subsequent section.  \n",
    "\n",
    "In the linear search algorithm, we care about the input. We ask the question: \n",
    "\n",
    "> What input can I pick so the oracle responds with true? \n",
    "\n",
    "In Grover's algorithm, we don't care about the input (we can start from any state). We ask a different question: \n",
    "\n",
    "> How do I use the oracle to increase the probability of the answer state from the set of all possible input states?\n",
    "\n",
    "This change of question, also called [change of basis](https://en.wikipedia.org/wiki/Change_of_basis), is enabled by superposition. \n",
    "\n",
    "To simulate such a change of question using a regular bit, for an n-bit qubit, we'd require O(2ⁿ) iterations to generate and O(2ⁿ) space to store the generated state.  \n",
    "An n-qubit quantum state can be put into a superposed state in O(1) time using O(1) space with the Hadamard gate we used above.\n",
    "\n",
    "Grover's search algorithm begins with the `|0>` state. "
   ]
  },
  {
   "cell_type": "code",
   "execution_count": 55,
   "metadata": {},
   "outputs": [
    {
     "name": "stdout",
     "output_type": "stream",
     "text": [
      "  State    Amplitude    Probability\n",
      "-------  -----------  -------------\n",
      "      0            1              1\n",
      "      1            0              0\n",
      "      2            0              0\n",
      "      3            0              0\n"
     ]
    }
   ],
   "source": [
    "initState = [0]*4\n",
    "initState[0] = 1\n",
    "initQuantumState = QubitSet(initState)\n",
    "initQuantumState.pprint()"
   ]
  },
  {
   "cell_type": "markdown",
   "metadata": {},
   "source": [
    "It then uses the hadamard gate to put the input into a state of uniform superposition."
   ]
  },
  {
   "cell_type": "code",
   "execution_count": 56,
   "metadata": {},
   "outputs": [
    {
     "name": "stdout",
     "output_type": "stream",
     "text": [
      "  State    Amplitude    Probability\n",
      "-------  -----------  -------------\n",
      "      0          0.5           0.25\n",
      "      1          0.5           0.25\n",
      "      2          0.5           0.25\n",
      "      3          0.5           0.25\n"
     ]
    }
   ],
   "source": [
    "def hadamard4InputStates(qubitSet):\n",
    "    assert(qubitSet.numStates() == 4)\n",
    "    return QubitSet([1/2*qubitSet.amplitudes[0] + \n",
    "                     1/2*qubitSet.amplitudes[1] + \n",
    "                     1/2*qubitSet.amplitudes[2] + \n",
    "                     1/2*qubitSet.amplitudes[3],\n",
    "                     1/2*qubitSet.amplitudes[0] - \n",
    "                     1/2*qubitSet.amplitudes[1] + \n",
    "                     1/2*qubitSet.amplitudes[2] - \n",
    "                     1/2*qubitSet.amplitudes[3],\n",
    "                     1/2*qubitSet.amplitudes[0] + \n",
    "                     1/2*qubitSet.amplitudes[1] - \n",
    "                     1/2*qubitSet.amplitudes[2] - \n",
    "                     1/2*qubitSet.amplitudes[3],\n",
    "                     1/2*qubitSet.amplitudes[0] - \n",
    "                     1/2*qubitSet.amplitudes[1] - \n",
    "                     1/2*qubitSet.amplitudes[2] + \n",
    "                     1/2*qubitSet.amplitudes[3]])\n",
    "\n",
    "uniformSuperposition = hadamard4InputStates(initQuantumState)\n",
    "uniformSuperposition.pprint()"
   ]
  },
  {
   "cell_type": "markdown",
   "metadata": {},
   "source": [
    "We need a way to separate the `|2>` state (our answer) from the other input states. The oracle comes to our rescue!\n",
    "\n",
    "Grover's algorithm constructs a quantum gate (groverSeparationGate) that operates on the superposed state to do this separation: "
   ]
  },
  {
   "cell_type": "code",
   "execution_count": 57,
   "metadata": {},
   "outputs": [],
   "source": [
    "def groverSeparationGate(self, qubitSet):\n",
    "        transformedAmplitudes = []\n",
    "        for state, amplitude in enumerate(qubitSet.amplitudes):\n",
    "            transformedAmplitudes.append(\n",
    "                -1*amplitude if self.oracle(state) else amplitude)\n",
    "        return QubitSet(transformedAmplitudes)"
   ]
  },
  {
   "cell_type": "code",
   "execution_count": 58,
   "metadata": {},
   "outputs": [
    {
     "name": "stdout",
     "output_type": "stream",
     "text": [
      "  State    Amplitude    Probability\n",
      "-------  -----------  -------------\n",
      "      0          0.5           0.25\n",
      "      1          0.5           0.25\n",
      "      2         -0.5           0.25\n",
      "      3          0.5           0.25\n"
     ]
    }
   ],
   "source": [
    "separatedQuantumState = groverSearch.groverSeparationGate(uniformSuperposition)\n",
    "separatedQuantumState.pprint()"
   ]
  },
  {
   "cell_type": "markdown",
   "metadata": {},
   "source": [
    "**Note**: It may appear that we're dealing with O(N) complexity based on the code. However, to a quantum gate, a superposed state is no different than an un-superposed state. An n-qubit quantum gate operates on the n-qubit *state* in O(1) time. It helps to think of the quantum gates as operating on all the states in a superposition in parallel. So in practice, the groverSeparationGate operation takes O(1) time."
   ]
  },
  {
   "cell_type": "markdown",
   "metadata": {},
   "source": [
    "Note that the Grover's separation gate doesn't change the probability of the states. This is not a coincidence. A quantum gate can only do a [*unitary* transformation](https://en.wikipedia.org/wiki/Unitary_transformation). A unitary transformation preserves the total probability of the input states. This makes sense since we only expect to find one of `[0, 1, 2, 3]`, therefore their probabilities should sum to `1`. "
   ]
  },
  {
   "cell_type": "markdown",
   "metadata": {},
   "source": [
    "Now we need a way to increase the probability of state `|2>`. Grover's algorithm uses *mean inversion* to achieve this. Mean inversion inverses the amplitudes about their mean."
   ]
  },
  {
   "cell_type": "code",
   "execution_count": 59,
   "metadata": {},
   "outputs": [],
   "source": [
    "def meanInversionGate(self, qubitSet):\n",
    "        transformedAmplitudes = []\n",
    "        mean = sum(qubitSet.amplitudes)/qubitSet.numStates()\n",
    "        return QubitSet([2*mean-amplitude for amplitude in qubitSet.amplitudes])"
   ]
  },
  {
   "cell_type": "code",
   "execution_count": 60,
   "metadata": {},
   "outputs": [
    {
     "name": "stdout",
     "output_type": "stream",
     "text": [
      "  State    Amplitude    Probability\n",
      "-------  -----------  -------------\n",
      "      0            0              0\n",
      "      1            0              0\n",
      "      2            1              1\n",
      "      3            0              0\n"
     ]
    }
   ],
   "source": [
    "groverSearch.meanInversionGate(separatedQuantumState).pprint()"
   ]
  },
  {
   "cell_type": "markdown",
   "metadata": {},
   "source": [
    "In this case we reached our answer with a probability of 1 with just 1 application of the groverSeparation gate and the meanInversion gate!\n",
    "\n",
    "But in general, each application of the separation and mean reversal gates increases the amplitude of our answer state by c/√n, where c is a constant. Therefore we need √n iterations to increase the probability of finding the answer to a constant factor. "
   ]
  },
  {
   "cell_type": "markdown",
   "metadata": {},
   "source": [
    "So the Grover's search algorithm looks like this:"
   ]
  },
  {
   "cell_type": "code",
   "execution_count": 61,
   "metadata": {},
   "outputs": [],
   "source": [
    "def search(self):\n",
    "    listLen = len(self.inputList)\n",
    "    assert(isPowerOfTwo(listLen))\n",
    "    initState = [0]*listLen\n",
    "    initState[0] = 1\n",
    "    uniformSuperposition = hadamard(QubitSet(initState)) \n",
    "    inputState = uniformSuperposition\n",
    "    for i in range(math.ceil(math.sqrt(listLen)) - 1):\n",
    "        inputState = self.groverSeparationGate(inputState)\n",
    "        inputState = self.meanInversionGate(inputState)\n",
    "    return inputState"
   ]
  },
  {
   "cell_type": "markdown",
   "metadata": {},
   "source": [
    "The time complexity of the Grover separation gate is O(1). The time complexity of the mean inversion gate is O(1) too. So the overall time complexity of Grover's algorithm is O(√N), which is a quadratic speedup over the regular O(N) algorithm."
   ]
  },
  {
   "cell_type": "markdown",
   "metadata": {},
   "source": [
    "## What does this speedup mean?\n",
    "\n",
    "If we think of our search problem as searching a database for an element, the oracle is an encoding of the database itself. Clearly we need at least O(N) additional work to build the oracle based on the database. What's the point of Grover's algorithm, if we need to spend at least O(N) time building the oracle from the database anyway?\n",
    "\n",
    "The real power of Grover's algorithm lies in the nature of the oracle. Notice how Grover's algorithm always guarantees to find the solution in O(√N) iterations regardless of what the oracle is. What if the oracle was not a simple `=` checker, but something more complex?\n",
    "\n",
    "The NP complete problems come to mind. A problem is said to be in NP if there's a polynomial time algorithm to verify a solution to the problem. \n",
    "\n",
    "> **We can build an oracle using the verification algorithm. And use Grover's algorithm to find a solution to the problem in O(√N) iterations!**\n",
    "\n",
    "However, note that this doesn't mean *P = NP*. We only achieved a quadratic speedup. So if we needed 2ⁿ iterations to find a solution to the problem earlier, we now require √2ⁿ iterations. But we still require an **exponential** number of iterations.\n",
    "\n",
    "Also, with the current state of quantum computers, we're restricted to [53 qubits](https://www.cnet.com/news/ibm-new-53-qubit-quantum-computer-is-its-biggest-yet/). So there's that. \n",
    "\n",
    "But this is just the beginning for quantum computing!"
   ]
  },
  {
   "cell_type": "markdown",
   "metadata": {},
   "source": [
    "## Conclusion\n",
    "\n",
    "This article is intended as an introduction to quantum algorithms:\n",
    "* We implemented a simulation of qubits and quantum gates. \n",
    "* We implemented Grover's search algorithm using our simulated qubits and quantum gates.\n",
    "* We observed how Grover's algorithm leverages qubit **superposition** and **interference** to achieve a quadratic speedup over the classical linear search algorithm."
   ]
  },
  {
   "cell_type": "markdown",
   "metadata": {},
   "source": [
    "## Where to go from here?\n",
    "\n",
    "* To get your feet wet with an actual quantum computer, check out [AWS Braket](https://aws.amazon.com/braket/). \n",
    "* To dive deeper into the theory for quantum algorithms, I'd recommend checking out [Quantum Computing for Computer Scientists](https://www.amazon.com/Quantum-Computing-Computer-Scientists-Yanofsky/dp/0521879965).\n",
    "* To learn more about Grover's search algorithm discussed above, refer to the [original paper](https://arxiv.org/pdf/quant-ph/9605043.pdf).\n",
    "\n",
    "Happy quantum-ing everyone, don't forget to feed your qu-cats!"
   ]
  }
 ],
 "metadata": {
  "kernelspec": {
   "display_name": "Python 3",
   "language": "python",
   "name": "python3"
  },
  "language_info": {
   "codemirror_mode": {
    "name": "ipython",
    "version": 3
   },
   "file_extension": ".py",
   "mimetype": "text/x-python",
   "name": "python",
   "nbconvert_exporter": "python",
   "pygments_lexer": "ipython3",
   "version": "3.8.5"
  }
 },
 "nbformat": 4,
 "nbformat_minor": 4
}
